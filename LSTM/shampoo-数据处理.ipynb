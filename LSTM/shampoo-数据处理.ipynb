{
 "cells": [
  {
   "cell_type": "markdown",
   "metadata": {
    "run_control": {
     "frozen": false,
     "read_only": false
    }
   },
   "source": [
    "## LSTM 准备-- 整个导图"
   ]
  },
  {
   "cell_type": "markdown",
   "metadata": {},
   "source": [
    "### 将时间序列转换为监督学习"
   ]
  },
  {
   "cell_type": "markdown",
   "metadata": {},
   "source": [
    "本节分外三步：\n",
    "\n",
    "1. 将时间序列转化为监督学习问题。\n",
    "2. 转化时间序列数据使其呈静态。\n",
    "3. 转化观察值使其处于特定区间"
   ]
  },
  {
   "cell_type": "code",
   "execution_count": 10,
   "metadata": {
    "ExecuteTime": {
     "end_time": "2017-11-28T16:49:07.209629",
     "start_time": "2017-11-28T16:49:07.205628"
    },
    "collapsed": true
   },
   "outputs": [],
   "source": [
    "from pandas import DataFrame\n",
    "from pandas import  concat\n",
    "from pandas import read_csv\n",
    "from pandas import datetime"
   ]
  },
  {
   "cell_type": "code",
   "execution_count": 2,
   "metadata": {
    "ExecuteTime": {
     "end_time": "2017-11-28T16:45:26.451002",
     "start_time": "2017-11-28T16:45:26.445002"
    },
    "collapsed": true
   },
   "outputs": [],
   "source": [
    "def parser(x):\n",
    "    '''1年1月 转换成 1901-1-1'''\n",
    "    return datetime.strptime('190'+x,'%Y年%m月')"
   ]
  },
  {
   "cell_type": "code",
   "execution_count": 4,
   "metadata": {
    "ExecuteTime": {
     "end_time": "2017-11-28T16:47:29.584045",
     "start_time": "2017-11-28T16:47:29.574044"
    },
    "collapsed": false
   },
   "outputs": [],
   "source": [
    "series = read_csv('data/sales2.csv', header=0, parse_dates=[0], index_col=0, squeeze=True, date_parser=parser)"
   ]
  },
  {
   "cell_type": "code",
   "execution_count": 45,
   "metadata": {
    "ExecuteTime": {
     "end_time": "2017-11-28T17:02:09.266360",
     "start_time": "2017-11-28T17:02:09.263360"
    },
    "collapsed": false
   },
   "outputs": [],
   "source": [
    "X = series.values"
   ]
  },
  {
   "cell_type": "code",
   "execution_count": 50,
   "metadata": {
    "ExecuteTime": {
     "end_time": "2017-11-28T17:07:32.420843",
     "start_time": "2017-11-28T17:07:32.411843"
    },
    "collapsed": false
   },
   "outputs": [],
   "source": [
    "def timeseries_to_supervised(data, lag=1):\n",
    "#     narray 转换成 DataFrame\n",
    "    df = DataFrame(data)\n",
    "#     往下移动一位\n",
    "    columns = [df.shift(i) for i in range(1, lag+1)]\n",
    "    columns.append(df)\n",
    "#     将list的两个原始拼接成两列\n",
    "    df = concat(columns, axis=1)\n",
    "#     将NaN 转换成 0\n",
    "    df.fillna(0, inplace=True)\n",
    "    return df"
   ]
  },
  {
   "cell_type": "code",
   "execution_count": 51,
   "metadata": {
    "ExecuteTime": {
     "end_time": "2017-11-28T17:07:32.824866",
     "start_time": "2017-11-28T17:07:32.817866"
    },
    "collapsed": false
   },
   "outputs": [],
   "source": [
    "supervised = timeseries_to_supervised(X,1)"
   ]
  },
  {
   "cell_type": "code",
   "execution_count": 53,
   "metadata": {
    "ExecuteTime": {
     "end_time": "2017-11-28T17:08:14.129229",
     "start_time": "2017-11-28T17:08:14.110228"
    },
    "collapsed": false
   },
   "outputs": [
    {
     "data": {
      "text/html": [
       "<div>\n",
       "<table border=\"1\" class=\"dataframe\">\n",
       "  <thead>\n",
       "    <tr style=\"text-align: right;\">\n",
       "      <th></th>\n",
       "      <th>0</th>\n",
       "      <th>0</th>\n",
       "    </tr>\n",
       "  </thead>\n",
       "  <tbody>\n",
       "    <tr>\n",
       "      <th>0</th>\n",
       "      <td>0.0</td>\n",
       "      <td>266.0</td>\n",
       "    </tr>\n",
       "    <tr>\n",
       "      <th>1</th>\n",
       "      <td>266.0</td>\n",
       "      <td>145.9</td>\n",
       "    </tr>\n",
       "    <tr>\n",
       "      <th>2</th>\n",
       "      <td>145.9</td>\n",
       "      <td>183.1</td>\n",
       "    </tr>\n",
       "    <tr>\n",
       "      <th>3</th>\n",
       "      <td>183.1</td>\n",
       "      <td>119.3</td>\n",
       "    </tr>\n",
       "    <tr>\n",
       "      <th>4</th>\n",
       "      <td>119.3</td>\n",
       "      <td>180.3</td>\n",
       "    </tr>\n",
       "  </tbody>\n",
       "</table>\n",
       "</div>"
      ],
      "text/plain": [
       "       0      0\n",
       "0    0.0  266.0\n",
       "1  266.0  145.9\n",
       "2  145.9  183.1\n",
       "3  183.1  119.3\n",
       "4  119.3  180.3"
      ]
     },
     "execution_count": 53,
     "metadata": {},
     "output_type": "execute_result"
    }
   ],
   "source": [
    "supervised.head()"
   ]
  },
  {
   "cell_type": "markdown",
   "metadata": {},
   "source": [
    "### 将时间序列转换为静态"
   ]
  },
  {
   "cell_type": "markdown",
   "metadata": {},
   "source": [
    "时间是递增的，需要去掉时间的递增趋势。    \n",
    "差分diff操作溢出趋势    "
   ]
  },
  {
   "cell_type": "code",
   "execution_count": 54,
   "metadata": {
    "ExecuteTime": {
     "end_time": "2017-11-28T18:15:34.733338",
     "start_time": "2017-11-28T18:15:34.730338"
    },
    "collapsed": true
   },
   "outputs": [],
   "source": [
    "from pandas import Series"
   ]
  },
  {
   "cell_type": "markdown",
   "metadata": {},
   "source": [
    "自定义差分"
   ]
  },
  {
   "cell_type": "code",
   "execution_count": 56,
   "metadata": {
    "ExecuteTime": {
     "end_time": "2017-11-28T18:16:59.815205",
     "start_time": "2017-11-28T18:16:59.811204"
    },
    "collapsed": false
   },
   "outputs": [],
   "source": [
    "def difference(dataset, interval=1):\n",
    "    diff = list()\n",
    "    for i in range(interval, len(dataset)):\n",
    "        diff.append(dataset[i]-dataset[i-interval])\n",
    "    return Series(diff)"
   ]
  },
  {
   "cell_type": "markdown",
   "metadata": {},
   "source": [
    "差分恢复"
   ]
  },
  {
   "cell_type": "code",
   "execution_count": 57,
   "metadata": {
    "ExecuteTime": {
     "end_time": "2017-11-28T18:18:42.918102",
     "start_time": "2017-11-28T18:18:42.914101"
    },
    "collapsed": true
   },
   "outputs": [],
   "source": [
    "def inverse_difference(history, yhat, interval=1):\n",
    "    return yhat + history[-interval]"
   ]
  },
  {
   "cell_type": "code",
   "execution_count": 59,
   "metadata": {
    "ExecuteTime": {
     "end_time": "2017-11-28T18:21:43.193413",
     "start_time": "2017-11-28T18:21:43.187412"
    },
    "collapsed": false
   },
   "outputs": [],
   "source": [
    "series = read_csv('data/sales2.csv',header=0,parse_dates=[0], index_col=0, squeeze=True,date_parser=parser)"
   ]
  },
  {
   "cell_type": "code",
   "execution_count": 61,
   "metadata": {
    "ExecuteTime": {
     "end_time": "2017-11-28T18:22:11.418027",
     "start_time": "2017-11-28T18:22:11.408027"
    },
    "collapsed": false
   },
   "outputs": [
    {
     "data": {
      "text/plain": [
       "Month\n",
       "1901-01-01    266.0\n",
       "1901-02-01    145.9\n",
       "1901-03-01    183.1\n",
       "1901-04-01    119.3\n",
       "1901-05-01    180.3\n",
       "Name: Sales of shampoo over a three year period, dtype: float64"
      ]
     },
     "execution_count": 61,
     "metadata": {},
     "output_type": "execute_result"
    }
   ],
   "source": [
    "series.head()"
   ]
  },
  {
   "cell_type": "code",
   "execution_count": 63,
   "metadata": {
    "ExecuteTime": {
     "end_time": "2017-11-28T18:24:58.149564",
     "start_time": "2017-11-28T18:24:58.095561"
    },
    "collapsed": false
   },
   "outputs": [],
   "source": [
    "inverted = list()\n",
    "differenced = difference(series,1)\n",
    "for i in range(len(differenced)):\n",
    "    value = inverse_difference(series, differenced[i], len(series)-i)\n",
    "    inverted.append(value)\n",
    "\n",
    "    \n",
    "inverted = Series(inverted)"
   ]
  },
  {
   "cell_type": "markdown",
   "metadata": {},
   "source": [
    "### 转化时间序列使其处于特定区间"
   ]
  },
  {
   "cell_type": "markdown",
   "metadata": {},
   "source": [
    "使用MinMaxScaler class转化数据集使其处在 [-1, 1] 区间内。和其他scikit-learn转换模块一样，它需要提供行列矩阵形式的数据。因此，我们必须在转换数据集之前变换NumPy数组。"
   ]
  },
  {
   "cell_type": "code",
   "execution_count": 69,
   "metadata": {
    "ExecuteTime": {
     "end_time": "2017-11-28T18:40:51.451089",
     "start_time": "2017-11-28T18:40:51.439089"
    },
    "collapsed": false
   },
   "outputs": [],
   "source": [
    "X = series.values\n"
   ]
  },
  {
   "cell_type": "code",
   "execution_count": 70,
   "metadata": {
    "ExecuteTime": {
     "end_time": "2017-11-28T18:40:51.826111",
     "start_time": "2017-11-28T18:40:51.815110"
    },
    "collapsed": false
   },
   "outputs": [],
   "source": [
    "X = X.reshape(len(X),1)\n"
   ]
  },
  {
   "cell_type": "code",
   "execution_count": 71,
   "metadata": {
    "ExecuteTime": {
     "end_time": "2017-11-28T18:42:04.196250",
     "start_time": "2017-11-28T18:42:04.192250"
    },
    "collapsed": true
   },
   "outputs": [],
   "source": [
    "from sklearn.preprocessing import MinMaxScaler"
   ]
  },
  {
   "cell_type": "code",
   "execution_count": 84,
   "metadata": {
    "ExecuteTime": {
     "end_time": "2017-11-28T18:48:02.019717",
     "start_time": "2017-11-28T18:48:02.011716"
    },
    "collapsed": false
   },
   "outputs": [
    {
     "data": {
      "text/plain": [
       "0   -0.478585\n",
       "1   -0.905456\n",
       "2   -0.773236\n",
       "3   -1.000000\n",
       "4   -0.783188\n",
       "dtype: float64"
      ]
     },
     "execution_count": 84,
     "metadata": {},
     "output_type": "execute_result"
    }
   ],
   "source": [
    "scaler = MinMaxScaler(feature_range=(-1, 1))\n",
    "scaler = scaler.fit(X)\n",
    "scaled_X = scaler.transform(X)\n",
    "scaled_series = Series(scaled_X[:,0])\n",
    "scaled_series.head()"
   ]
  },
  {
   "cell_type": "code",
   "execution_count": 85,
   "metadata": {
    "ExecuteTime": {
     "end_time": "2017-11-28T18:49:02.643184",
     "start_time": "2017-11-28T18:49:02.634183"
    },
    "collapsed": false
   },
   "outputs": [
    {
     "data": {
      "text/plain": [
       "0    266.0\n",
       "1    145.9\n",
       "2    183.1\n",
       "3    119.3\n",
       "4    180.3\n",
       "dtype: float64"
      ]
     },
     "execution_count": 85,
     "metadata": {},
     "output_type": "execute_result"
    }
   ],
   "source": [
    "inverted_X = scalar.inverse_transform(scaled_X)\n",
    "inverted_series = Series(inverted_X[:,0])\n",
    "inverted_series.head()"
   ]
  },
  {
   "cell_type": "markdown",
   "metadata": {},
   "source": [
    "## LSTM 模型开发"
   ]
  },
  {
   "cell_type": "markdown",
   "metadata": {},
   "source": [
    "`stateful` 保存状态， reset_states()清除状态    \n",
    "\n",
    "LSTM层要求输入值须位于有维度的矩阵中；【例子、时间步、特征】。\n",
    "\n",
    "**例子**：是指定义域中的独立观察值，通常是几列数据。    \n",
    "**时间步**：是指特定观察值的给定变量的单独时间步。    \n",
    "**特征**：是指的观察时得到的单独指标。      \n",
    "\n",
    "依次为输入的第一维，第二维，第三维    \n"
   ]
  },
  {
   "cell_type": "code",
   "execution_count": null,
   "metadata": {
    "collapsed": true
   },
   "outputs": [],
   "source": []
  }
 ],
 "metadata": {
  "anaconda-cloud": {},
  "kernelspec": {
   "display_name": "Python [Root]",
   "language": "python",
   "name": "Python [Root]"
  },
  "language_info": {
   "codemirror_mode": {
    "name": "ipython",
    "version": 3
   },
   "file_extension": ".py",
   "mimetype": "text/x-python",
   "name": "python",
   "nbconvert_exporter": "python",
   "pygments_lexer": "ipython3",
   "version": "3.5.2"
  }
 },
 "nbformat": 4,
 "nbformat_minor": 0
}
