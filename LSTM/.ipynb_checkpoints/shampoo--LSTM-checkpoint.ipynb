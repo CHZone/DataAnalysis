{
 "cells": [
  {
   "cell_type": "code",
   "execution_count": 1,
   "metadata": {
    "ExecuteTime": {
     "end_time": "2017-11-29T09:54:32.299953",
     "start_time": "2017-11-29T09:54:04.572367"
    },
    "collapsed": false,
    "run_control": {
     "frozen": false,
     "read_only": false
    }
   },
   "outputs": [
    {
     "name": "stderr",
     "output_type": "stream",
     "text": [
      "Using TensorFlow backend.\n"
     ]
    }
   ],
   "source": [
    "%matplotlib inline\n",
    "from pandas import DataFrame\n",
    "from pandas import Series\n",
    "from pandas import concat\n",
    "from pandas import read_csv\n",
    "from pandas import datetime\n",
    "from sklearn.metrics import mean_squared_error\n",
    "from sklearn.preprocessing import MinMaxScaler\n",
    "from keras.models import Sequential\n",
    "from keras.layers import Dense\n",
    "from keras.layers import LSTM\n",
    "from math import sqrt\n",
    "from matplotlib import  pyplot\n",
    "import numpy "
   ]
  },
  {
   "cell_type": "markdown",
   "metadata": {
    "run_control": {
     "frozen": false,
     "read_only": false
    }
   },
   "source": [
    " 字符串转时间"
   ]
  },
  {
   "cell_type": "code",
   "execution_count": 2,
   "metadata": {
    "ExecuteTime": {
     "end_time": "2017-11-29T09:54:36.230178",
     "start_time": "2017-11-29T09:54:36.222177"
    },
    "collapsed": true,
    "run_control": {
     "frozen": false,
     "read_only": false
    }
   },
   "outputs": [],
   "source": [
    "def parser(x):\n",
    "    return datetime.strptime('190'+x,'%Y年%m月')"
   ]
  },
  {
   "cell_type": "markdown",
   "metadata": {
    "run_control": {
     "frozen": false,
     "read_only": false
    }
   },
   "source": [
    "时间序列数据转换成监督学习数据"
   ]
  },
  {
   "cell_type": "code",
   "execution_count": 3,
   "metadata": {
    "ExecuteTime": {
     "end_time": "2017-11-29T09:54:39.714377",
     "start_time": "2017-11-29T09:54:39.702376"
    },
    "collapsed": true,
    "run_control": {
     "frozen": false,
     "read_only": false
    }
   },
   "outputs": [],
   "source": [
    "def timeseries_to_supervised(data, lag=1):\n",
    "    df = DataFrame(data)\n",
    "    columns = [df.shift(i) for i in range(1,lag+1)]\n",
    "    columns.append(df)\n",
    "    df = concat(columns, axis=1)\n",
    "    df.fillna(0,inplace=True)\n",
    "    return df"
   ]
  },
  {
   "cell_type": "markdown",
   "metadata": {
    "run_control": {
     "frozen": false,
     "read_only": false
    }
   },
   "source": [
    "差分"
   ]
  },
  {
   "cell_type": "code",
   "execution_count": 4,
   "metadata": {
    "ExecuteTime": {
     "end_time": "2017-11-29T09:54:42.858557",
     "start_time": "2017-11-29T09:54:42.847556"
    },
    "collapsed": true,
    "run_control": {
     "frozen": false,
     "read_only": false
    }
   },
   "outputs": [],
   "source": [
    "def difference(dataset, interval=1):\n",
    "    diff = list()\n",
    "    for i in range(interval, len(dataset)):\n",
    "        value = dataset[i]-dataset[i-interval]\n",
    "        diff.append(value)\n",
    "        \n",
    "    return Series(diff)"
   ]
  },
  {
   "cell_type": "markdown",
   "metadata": {
    "run_control": {
     "frozen": false,
     "read_only": false
    }
   },
   "source": [
    "逆差分"
   ]
  },
  {
   "cell_type": "code",
   "execution_count": 5,
   "metadata": {
    "ExecuteTime": {
     "end_time": "2017-11-29T09:54:44.220635",
     "start_time": "2017-11-29T09:54:44.215635"
    },
    "collapsed": true,
    "run_control": {
     "frozen": false,
     "read_only": false
    }
   },
   "outputs": [],
   "source": [
    "def inverse_difference(history, yhat, interval=1):\n",
    "    return yhat + history[-interval]"
   ]
  },
  {
   "cell_type": "markdown",
   "metadata": {
    "run_control": {
     "frozen": false,
     "read_only": false
    }
   },
   "source": [
    "scale 操作   归一化"
   ]
  },
  {
   "cell_type": "code",
   "execution_count": 6,
   "metadata": {
    "ExecuteTime": {
     "end_time": "2017-11-29T09:54:45.500708",
     "start_time": "2017-11-29T09:54:45.484707"
    },
    "collapsed": true,
    "run_control": {
     "frozen": false,
     "read_only": false
    }
   },
   "outputs": [],
   "source": [
    "def scale(train ,test):\n",
    "    scaler = MinMaxScaler(feature_range=(-1,1))\n",
    "    scaler = scaler.fit(train)\n",
    "    # train 归一化\n",
    "    train = train.reshape(train.shape[0], train.shape[1])\n",
    "    train_scaled = scaler.transform(train)\n",
    "    # test 归一化\n",
    "    test = test.reshape(test.shape[0], test.shape[1])\n",
    "    test_scaled = scaler.transform(test)\n",
    "    \n",
    "    return scaler, train_scaled, test_scaled"
   ]
  },
  {
   "cell_type": "markdown",
   "metadata": {
    "run_control": {
     "frozen": false,
     "read_only": false
    }
   },
   "source": [
    "逆归一化"
   ]
  },
  {
   "cell_type": "code",
   "execution_count": 7,
   "metadata": {
    "ExecuteTime": {
     "end_time": "2017-11-29T09:54:47.121801",
     "start_time": "2017-11-29T09:54:47.110800"
    },
    "collapsed": true,
    "run_control": {
     "frozen": false,
     "read_only": false
    }
   },
   "outputs": [],
   "source": [
    "def invert_scale(scaler, X, value):\n",
    "    new_row = [x for x in X ] + [value]\n",
    "    array = numpy.array(new_row)\n",
    "    array = array.reshape(1, len(array))\n",
    "    inverted = scaler.inverse_transform(array)\n",
    "    return inverted[0,-1]"
   ]
  },
  {
   "cell_type": "markdown",
   "metadata": {
    "run_control": {
     "frozen": false,
     "read_only": false
    }
   },
   "source": [
    "在编译后，该网络能够拟合训练数据。因为该网络有状态，我们必须在内部状态重启时实施控制。因此，我们必须一次一个epoch地手动管理训练流程，直至完成预期的epoch数    \n",
    "**定义模型**\n"
   ]
  },
  {
   "cell_type": "code",
   "execution_count": 8,
   "metadata": {
    "ExecuteTime": {
     "end_time": "2017-11-29T09:54:48.560883",
     "start_time": "2017-11-29T09:54:48.535882"
    },
    "collapsed": true,
    "run_control": {
     "frozen": false,
     "read_only": false
    }
   },
   "outputs": [],
   "source": [
    "def fit_lstm(train, batch_size, nb_epoch, neurons):\n",
    "    X,y = train[:,0:-1],train[:,-1]\n",
    "    X = X.reshape(X.shape[0],1,X.shape[1])\n",
    "    model = Sequential()\n",
    "    model.add(LSTM(neurons, batch_input_shape=(batch_size,X.shape[1],X.shape[2]),stateful=True))\n",
    "    model.add(Dense(1))# 漏掉了\n",
    "    model.compile(loss='mean_squared_error', optimizer='adam')\n",
    "    for i in range(nb_epoch):\n",
    "        model.fit(X, y, epochs=1, batch_size=batch_size, verbose=0, shuffle=False)\n",
    "        # 为什么要reset，应该是清楚记忆，不清楚参数\n",
    "        model.reset_states()\n",
    "    return model"
   ]
  },
  {
   "cell_type": "markdown",
   "metadata": {
    "run_control": {
     "frozen": false,
     "read_only": false
    }
   },
   "source": [
    "单步预测"
   ]
  },
  {
   "cell_type": "code",
   "execution_count": 9,
   "metadata": {
    "ExecuteTime": {
     "end_time": "2017-11-29T09:54:50.421990",
     "start_time": "2017-11-29T09:54:50.411989"
    },
    "collapsed": true,
    "run_control": {
     "frozen": false,
     "read_only": false
    }
   },
   "outputs": [],
   "source": [
    "def forecast_lstm(model, batch_size, X):\n",
    "    X = X.reshape(1,1,len(X))\n",
    "    yhat = model.predict(X,batch_size=batch_size)\n",
    "    return yhat[0,0]"
   ]
  },
  {
   "cell_type": "markdown",
   "metadata": {
    "run_control": {
     "frozen": false,
     "read_only": false
    }
   },
   "source": [
    "加载数据"
   ]
  },
  {
   "cell_type": "code",
   "execution_count": 10,
   "metadata": {
    "ExecuteTime": {
     "end_time": "2017-11-29T09:54:52.800126",
     "start_time": "2017-11-29T09:54:52.745123"
    },
    "collapsed": true,
    "run_control": {
     "frozen": false,
     "read_only": false
    }
   },
   "outputs": [],
   "source": [
    "series = read_csv('data/sales2.csv', header=0, parse_dates=[0], index_col=0,squeeze=True, date_parser=parser)"
   ]
  },
  {
   "cell_type": "markdown",
   "metadata": {
    "run_control": {
     "frozen": false,
     "read_only": false
    }
   },
   "source": [
    "差分操作"
   ]
  },
  {
   "cell_type": "code",
   "execution_count": 11,
   "metadata": {
    "ExecuteTime": {
     "end_time": "2017-11-29T09:54:56.696348",
     "start_time": "2017-11-29T09:54:56.692348"
    },
    "collapsed": false,
    "run_control": {
     "frozen": false,
     "read_only": false
    }
   },
   "outputs": [],
   "source": [
    "raw_values = series.values\n",
    "diff_values = difference(raw_values)"
   ]
  },
  {
   "cell_type": "markdown",
   "metadata": {
    "run_control": {
     "frozen": false,
     "read_only": false
    }
   },
   "source": [
    "转换成监督学习数据"
   ]
  },
  {
   "cell_type": "code",
   "execution_count": 12,
   "metadata": {
    "ExecuteTime": {
     "end_time": "2017-11-29T09:54:58.167433",
     "start_time": "2017-11-29T09:54:58.155432"
    },
    "collapsed": false,
    "run_control": {
     "frozen": false,
     "read_only": false
    }
   },
   "outputs": [],
   "source": [
    "supervised = timeseries_to_supervised(diff_values,1)"
   ]
  },
  {
   "cell_type": "markdown",
   "metadata": {
    "run_control": {
     "frozen": false,
     "read_only": false
    }
   },
   "source": [
    "df 转 array"
   ]
  },
  {
   "cell_type": "code",
   "execution_count": 13,
   "metadata": {
    "ExecuteTime": {
     "end_time": "2017-11-29T09:54:59.363501",
     "start_time": "2017-11-29T09:54:59.359501"
    },
    "collapsed": false,
    "run_control": {
     "frozen": false,
     "read_only": false
    }
   },
   "outputs": [],
   "source": [
    "supervised_values = supervised.values"
   ]
  },
  {
   "cell_type": "markdown",
   "metadata": {
    "run_control": {
     "frozen": false,
     "read_only": false
    }
   },
   "source": [
    "拆分训练集和测试集"
   ]
  },
  {
   "cell_type": "code",
   "execution_count": 14,
   "metadata": {
    "ExecuteTime": {
     "end_time": "2017-11-29T09:55:02.228665",
     "start_time": "2017-11-29T09:55:02.220664"
    },
    "collapsed": true,
    "run_control": {
     "frozen": false,
     "read_only": false
    }
   },
   "outputs": [],
   "source": [
    "train, test = supervised_values[0:-12],supervised_values[-12:]"
   ]
  },
  {
   "cell_type": "markdown",
   "metadata": {
    "ExecuteTime": {
     "end_time": "2017-11-28T21:20:24.785653",
     "start_time": "2017-11-28T21:20:24.776652"
    },
    "run_control": {
     "frozen": false,
     "read_only": false
    }
   },
   "source": [
    "归一化"
   ]
  },
  {
   "cell_type": "code",
   "execution_count": 15,
   "metadata": {
    "ExecuteTime": {
     "end_time": "2017-11-29T09:55:03.937763",
     "start_time": "2017-11-29T09:55:03.931762"
    },
    "collapsed": true,
    "run_control": {
     "frozen": false,
     "read_only": false
    }
   },
   "outputs": [],
   "source": [
    "scaler, train_scaled, test_scaled = scale(train, test)"
   ]
  },
  {
   "cell_type": "markdown",
   "metadata": {
    "ExecuteTime": {
     "end_time": "2017-11-28T21:22:20.213255",
     "start_time": "2017-11-28T21:22:20.205254"
    },
    "run_control": {
     "frozen": false,
     "read_only": false
    }
   },
   "source": [
    "训练"
   ]
  },
  {
   "cell_type": "code",
   "execution_count": 16,
   "metadata": {
    "ExecuteTime": {
     "end_time": "2017-11-29T09:57:00.811447",
     "start_time": "2017-11-29T09:55:08.953050"
    },
    "collapsed": false,
    "run_control": {
     "frozen": false,
     "read_only": false
    }
   },
   "outputs": [],
   "source": [
    "# batch:1 , epochs:3000, lstm：4 \n",
    "lstm_model = fit_lstm(train_scaled, 1, 3000, 4)"
   ]
  },
  {
   "cell_type": "markdown",
   "metadata": {
    "run_control": {
     "frozen": false,
     "read_only": false
    }
   },
   "source": [
    "预测训练集,建立预测状态？？？"
   ]
  },
  {
   "cell_type": "code",
   "execution_count": 17,
   "metadata": {
    "ExecuteTime": {
     "end_time": "2017-11-29T09:57:05.580720",
     "start_time": "2017-11-29T09:57:05.462714"
    },
    "collapsed": false,
    "run_control": {
     "frozen": false,
     "read_only": false
    }
   },
   "outputs": [
    {
     "data": {
      "text/plain": [
       "array([[-0.76830816],\n",
       "       [ 0.02380726],\n",
       "       [-0.39782822],\n",
       "       [ 0.0290553 ],\n",
       "       [-0.37921289],\n",
       "       [-0.06433728],\n",
       "       [-0.34155414],\n",
       "       [ 0.00577721],\n",
       "       [ 0.28905785],\n",
       "       [ 0.62461519],\n",
       "       [-0.91191936],\n",
       "       [ 0.22941047],\n",
       "       [-0.01862749],\n",
       "       [ 0.27086663],\n",
       "       [-0.13783512],\n",
       "       [-0.377285  ],\n",
       "       [ 0.21899474],\n",
       "       [-0.41872731],\n",
       "       [ 0.16917127],\n",
       "       [-0.35094115],\n",
       "       [ 0.00698322],\n",
       "       [-0.89321446],\n",
       "       [ 0.07596684]], dtype=float32)"
      ]
     },
     "execution_count": 17,
     "metadata": {},
     "output_type": "execute_result"
    }
   ],
   "source": [
    "train_reshaped = train_scaled[:,0].reshape(len(train_scaled),1,1)\n",
    "lstm_model.predict(train_reshaped,batch_size=1)"
   ]
  },
  {
   "cell_type": "code",
   "execution_count": 19,
   "metadata": {
    "ExecuteTime": {
     "end_time": "2017-11-29T09:57:14.384224",
     "start_time": "2017-11-29T09:57:13.939198"
    },
    "collapsed": false,
    "run_control": {
     "frozen": false,
     "read_only": false
    }
   },
   "outputs": [
    {
     "name": "stdout",
     "output_type": "stream",
     "text": [
      "Month=1, Predicted=-96.726083, Expected=339.700000\n",
      "Month=2, Predicted=-231.977482, Expected=440.400000\n",
      "Month=3, Predicted=-197.297955, Expected=315.900000\n",
      "Month=4, Predicted=-387.223177, Expected=439.300000\n",
      "Month=5, Predicted=-198.948220, Expected=401.300000\n",
      "Month=6, Predicted=-308.205666, Expected=437.400000\n",
      "Month=7, Predicted=-237.976605, Expected=575.500000\n",
      "Month=8, Predicted=-76.559727, Expected=407.600000\n",
      "Month=9, Predicted=-307.603285, Expected=682.000000\n",
      "Month=10, Predicted=126.775049, Expected=475.300000\n",
      "Month=11, Predicted=-231.675296, Expected=581.300000\n",
      "Month=12, Predicted=-55.096357, Expected=646.900000\n",
      "Test RMSE: 686.535\n"
     ]
    },
    {
     "data": {
      "text/plain": [
       "[<matplotlib.lines.Line2D at 0x16ab2860>]"
      ]
     },
     "execution_count": 19,
     "metadata": {},
     "output_type": "execute_result"
    },
    {
     "data": {
      "image/png": "[encoded data removed]",
      "text/plain": [
       "<matplotlib.figure.Figure at 0x16ab2f98>"
      ]
     },
     "metadata": {},
     "output_type": "display_data"
    }
   ],
   "source": [
    "predictions = list()\n",
    "for i in range(len(test_scaled)):\n",
    "    # 单步预测\n",
    "    X, y = test_scaled[i,0:-1],test_scaled[i,-1]\n",
    "    # batch_size:1\n",
    "    yhat = forecast_lstm(lstm_model,1,X)\n",
    "    \n",
    "    # 逆归一化\n",
    "    yhat = invert_scale(scaler,X,yhat)\n",
    "    \n",
    "    # 逆 差分\n",
    "    yhat = inverse_difference(raw_values,yhat,len(test_scaled)+1-i)\n",
    "    \n",
    "    predictions.append(yhat)\n",
    "    expected = raw_values[len(train)+i+1]\n",
    "    print('Month=%d, Predicted=%f, Expected=%f' % (i+1, yhat, expected))\n",
    "    \n",
    "rmse = sqrt(mean_squared_error(raw_values[-12:],predictions))\n",
    "print('Test RMSE: %.3f' % rmse)\n",
    "\n",
    "pyplot.plot(raw_values[-12:],'r')\n",
    "pyplot.plot(predictions,'b')"
   ]
  },
  {
   "cell_type": "markdown",
   "metadata": {
    "collapsed": true,
    "run_control": {
     "frozen": false,
     "read_only": false
    }
   },
   "source": [
    " X, y = test_scaled[i,0:-1],test_scaled[i,-1]\n",
    "    # batch_size:1\n",
    "    yhat = forecast_lstm(lstm_model,1,X)\n",
    "    \n",
    "    # 逆归一化\n",
    "    yhat = invert_scale(scaler,X,yhat)\n",
    "    \n",
    "    # 逆 差分\n",
    "    yhat = inverse_difference(raw_values,yhat,len(test_scaled)+1-i)\n",
    "    \n",
    "    predictions.append(yhat)\n",
    "    expected = raw_values[len(train)+i+1]\n",
    "    print('Month=%d, Predicted=%f, Expected=%f' % (i+1, yhat, expected))m"
   ]
  },
  {
   "cell_type": "code",
   "execution_count": 25,
   "metadata": {
    "ExecuteTime": {
     "end_time": "2017-11-29T10:12:37.285011",
     "start_time": "2017-11-29T10:12:37.278010"
    },
    "collapsed": true
   },
   "outputs": [],
   "source": [
    "X, y = test_scaled[1,0:-1],test_scaled[1,-1]"
   ]
  },
  {
   "cell_type": "code",
   "execution_count": 26,
   "metadata": {
    "ExecuteTime": {
     "end_time": "2017-11-29T10:12:38.289068",
     "start_time": "2017-11-29T10:12:38.278068"
    },
    "collapsed": false
   },
   "outputs": [
    {
     "data": {
      "text/plain": [
       "(array([-0.16644187]), 0.39088211491772307)"
      ]
     },
     "execution_count": 26,
     "metadata": {},
     "output_type": "execute_result"
    }
   ],
   "source": [
    "X,y"
   ]
  },
  {
   "cell_type": "code",
   "execution_count": 27,
   "metadata": {
    "ExecuteTime": {
     "end_time": "2017-11-29T10:12:40.113172",
     "start_time": "2017-11-29T10:12:40.097172"
    },
    "collapsed": false
   },
   "outputs": [
    {
     "data": {
      "text/plain": [
       "-3.9205441"
      ]
     },
     "execution_count": 27,
     "metadata": {},
     "output_type": "execute_result"
    }
   ],
   "source": [
    "yhat = forecast_lstm(lstm_model,1,X)\n",
    "yhat"
   ]
  },
  {
   "cell_type": "code",
   "execution_count": 28,
   "metadata": {
    "ExecuteTime": {
     "end_time": "2017-11-29T10:12:43.406361",
     "start_time": "2017-11-29T10:12:43.395360"
    },
    "collapsed": false
   },
   "outputs": [
    {
     "data": {
      "text/plain": [
       "-698.42285773754134"
      ]
     },
     "execution_count": 28,
     "metadata": {},
     "output_type": "execute_result"
    }
   ],
   "source": [
    "yhat = invert_scale(scaler,X,yhat)\n",
    "yhat"
   ]
  },
  {
   "cell_type": "code",
   "execution_count": 29,
   "metadata": {
    "ExecuteTime": {
     "end_time": "2017-11-29T10:12:44.709435",
     "start_time": "2017-11-29T10:12:44.699435"
    },
    "collapsed": false
   },
   "outputs": [
    {
     "data": {
      "text/plain": [
       "-117.12285773754138"
      ]
     },
     "execution_count": 29,
     "metadata": {},
     "output_type": "execute_result"
    }
   ],
   "source": [
    "yhat = inverse_difference(raw_values,yhat,len(test_scaled)+1-i)\n",
    "yhat"
   ]
  },
  {
   "cell_type": "code",
   "execution_count": null,
   "metadata": {
    "collapsed": true
   },
   "outputs": [],
   "source": []
  }
 ],
 "metadata": {
  "anaconda-cloud": {},
  "kernelspec": {
   "display_name": "Python [Root]",
   "language": "python",
   "name": "Python [Root]"
  },
  "language_info": {
   "codemirror_mode": {
    "name": "ipython",
    "version": 3
   },
   "file_extension": ".py",
   "mimetype": "text/x-python",
   "name": "python",
   "nbconvert_exporter": "python",
   "pygments_lexer": "ipython3",
   "version": "3.5.2"
  }
 },
 "nbformat": 4,
 "nbformat_minor": 0
}
